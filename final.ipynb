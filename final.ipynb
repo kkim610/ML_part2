{
 "cells": [
  {
   "cell_type": "code",
   "execution_count": null,
   "id": "bf1d716e-f863-4d57-8efa-54de3c0fd0ce",
   "metadata": {},
   "outputs": [],
   "source": [
    "import pandas as pd\n",
    "\n",
    "penguins = pd.read_csv(\"penguins_classification.csv\")\n",
    "\n",
    "# only keep the Adelie and Chinstrap classes\n",
    "penguins = penguins.set_index(\"Species\").loc[\n",
    "    [\"Adelie\", \"Chinstrap\"]].reset_index()\n",
    "culmen_columns = [\"Culmen Length (mm)\", \"Culmen Depth (mm)\"]\n",
    "target_column = \"Species\""
   ]
  },
  {
   "cell_type": "code",
   "execution_count": null,
   "id": "e8a0a9bb-e7cd-48c9-bcf9-719f9674df9c",
   "metadata": {},
   "outputs": [],
   "source": []
  },
  {
   "cell_type": "markdown",
   "id": "7bcdeedb",
   "metadata": {},
   "source": [
    "We can quickly start by visualizing the feature distribution by class:"
   ]
  },
  {
   "cell_type": "code",
   "execution_count": null,
   "id": "2b709351",
   "metadata": {},
   "outputs": [],
   "source": [
    "import matplotlib.pyplot as plt\n",
    "\n",
    "for feature_name in culmen_columns:\n",
    "    plt.figure()\n",
    "    # plot the histogram for each specie\n",
    "    penguins.groupby(\"Species\")[feature_name].plot.hist(alpha=0.5, legend=True)\n",
    "    plt.xlabel(feature_name)"
   ]
  },
  {
   "cell_type": "markdown",
   "id": "7b5adf9a",
   "metadata": {},
   "source": [
    "We can observe that we have quite a simple problem. When the culmen\n",
    "length increases, the probability that the penguin is a Chinstrap is closer\n",
    "to 1. However, the culmen depth is not helpful for predicting the penguin\n",
    "species.\n",
    "\n",
    "For model fitting, we will separate the target from the data and\n",
    "we will create a training and a testing set."
   ]
  },
  {
   "cell_type": "code",
   "execution_count": null,
   "id": "6bcbe5e2",
   "metadata": {},
   "outputs": [],
   "source": [
    "from sklearn.model_selection import train_test_split\n",
    "\n",
    "penguins_train, penguins_test = train_test_split(penguins, random_state=2)\n",
    "\n",
    "data_train = penguins_train[culmen_columns]\n",
    "data_test = penguins_test[culmen_columns]\n",
    "\n",
    "target_train = penguins_train[target_column]\n",
    "target_test = penguins_test[target_column]"
   ]
  },
  {
   "cell_type": "code",
   "execution_count": null,
   "id": "73e4487d-78c7-4681-b6e8-d81d45a47edd",
   "metadata": {},
   "outputs": [],
   "source": [
    "target_train[:5]"
   ]
  },
  {
   "cell_type": "code",
   "execution_count": null,
   "id": "188e9e52-ef97-47f3-8239-b668dec761e1",
   "metadata": {},
   "outputs": [],
   "source": [
    "data_train[:5]"
   ]
  },
  {
   "cell_type": "markdown",
   "id": "cc78d51b",
   "metadata": {},
   "source": [
    "\n",
    "The linear regression that we previously saw will predict a continuous\n",
    "output. When the target is a binary outcome, one can use the logistic\n",
    "function to model the probability. This model is known as logistic\n",
    "regression.\n",
    "\n",
    "Scikit-learn provides the class `LogisticRegression` which implements this\n",
    "algorithm."
   ]
  },
  {
   "cell_type": "code",
   "execution_count": null,
   "id": "f41450d7",
   "metadata": {},
   "outputs": [],
   "source": [
    "import sklearn\n",
    "sklearn.set_config(display=\"diagram\")"
   ]
  },
  {
   "cell_type": "code",
   "execution_count": null,
   "id": "eabc38f3",
   "metadata": {},
   "outputs": [],
   "source": [
    "from sklearn.pipeline import make_pipeline\n",
    "from sklearn.preprocessing import StandardScaler\n",
    "from sklearn.linear_model import LogisticRegression\n",
    "\n",
    "logistic_regression = make_pipeline(\n",
    "    StandardScaler(), LogisticRegression(penalty=\"none\")\n",
    ")\n",
    "kk=logistic_regression.fit(data_train, target_train)\n",
    "accuracy = logistic_regression.score(data_test, target_test)\n",
    "print(f\"Accuracy on test set: {accuracy:.3f}\")"
   ]
  },
  {
   "cell_type": "code",
   "execution_count": null,
   "id": "08422b13",
   "metadata": {},
   "outputs": [],
   "source": [
    "coefs = logistic_regression[-1].coef_[0]  # the coefficients is a 2d array\n",
    "weights = pd.Series(coefs, index=culmen_columns)"
   ]
  },
  {
   "cell_type": "code",
   "execution_count": null,
   "id": "f60e05e5-7887-455a-a5b0-61a3c33d7da2",
   "metadata": {},
   "outputs": [],
   "source": [
    "coefs"
   ]
  },
  {
   "cell_type": "code",
   "execution_count": null,
   "id": "5b819963-6f7c-48ea-9b3e-3ead4808bfc3",
   "metadata": {},
   "outputs": [],
   "source": [
    "weights"
   ]
  },
  {
   "cell_type": "code",
   "execution_count": null,
   "id": "00fd0a32-f28f-4976-9493-47df4bc035c3",
   "metadata": {},
   "outputs": [],
   "source": [
    "logistic_regression[-1].coef_"
   ]
  },
  {
   "cell_type": "code",
   "execution_count": null,
   "id": "ab7c6035-8362-4ef1-8ea9-35ed2a7e65df",
   "metadata": {},
   "outputs": [],
   "source": [
    "logistic_regression[-1].intercept_"
   ]
  },
  {
   "cell_type": "code",
   "execution_count": null,
   "id": "0d927590-283e-4a6b-be62-86d295beac0f",
   "metadata": {},
   "outputs": [],
   "source": [
    "data_train[:5]"
   ]
  },
  {
   "cell_type": "code",
   "execution_count": null,
   "id": "489fa537-b7ef-4d2d-bfd5-b67b3e86148d",
   "metadata": {},
   "outputs": [],
   "source": [
    "target_train[:5]"
   ]
  },
  {
   "cell_type": "code",
   "execution_count": null,
   "id": "8df000bb-4f28-44a0-9c4b-e5115282cef6",
   "metadata": {},
   "outputs": [],
   "source": [
    "logistic_regression.classes_"
   ]
  },
  {
   "cell_type": "code",
   "execution_count": null,
   "id": "f6a22c77-f5a7-4e59-b5b6-302cac6b35ee",
   "metadata": {},
   "outputs": [],
   "source": [
    "logistic_regression.predict_proba(data_train[:5])"
   ]
  },
  {
   "cell_type": "code",
   "execution_count": null,
   "id": "2c11f748-f5f3-4d97-afe0-507a283953ae",
   "metadata": {},
   "outputs": [],
   "source": [
    "logistic_regression.predict(data_train[:5])"
   ]
  },
  {
   "cell_type": "code",
   "execution_count": null,
   "id": "e076e8c1-4be2-440e-927f-23428f326c2d",
   "metadata": {},
   "outputs": [],
   "source": [
    "import pickle\n",
    "midterm_model = pickle.dumps(logistic_regression)\n",
    "\n",
    "# open a file, where you want to store the data\n",
    "file = open('final2024_model.pkl', 'wb')\n",
    "\n",
    "# dump information to that file\n",
    "pickle.dump(logistic_regression, file)\n",
    "\n",
    "# close the file\n",
    "file.close()\n"
   ]
  },
  {
   "cell_type": "markdown",
   "id": "d00eb20a-9fb5-48dc-9641-bfe8c39f4cf5",
   "metadata": {},
   "source": [
    "#### 채점은 이렇게 (채점용 데이터 이용)"
   ]
  },
  {
   "cell_type": "code",
   "execution_count": null,
   "id": "4e831ee8-30bf-4130-88e0-5f87a4bde96e",
   "metadata": {},
   "outputs": [],
   "source": [
    "import pickle\n",
    "\n",
    "# open a file, where you stored the pickled data\n",
    "file2 = open('final2024_model.pkl', 'rb')\n",
    "\n",
    "# dump information to that file\n",
    "restord_model = pickle.load(file2)"
   ]
  },
  {
   "cell_type": "code",
   "execution_count": null,
   "id": "7e247c75-19c5-4878-9e97-1bf7b8f26131",
   "metadata": {},
   "outputs": [],
   "source": [
    "accuracy = restord_model.score(data_test, target_test)\n",
    "print(accuracy)"
   ]
  },
  {
   "cell_type": "code",
   "execution_count": null,
   "id": "60e5d3b3-266b-49e0-a4ad-32ade6188333",
   "metadata": {},
   "outputs": [],
   "source": [
    "restord_model.predict_proba(data_train[:5])"
   ]
  }
 ],
 "metadata": {
  "jupytext": {
   "main_language": "python"
  },
  "kernelspec": {
   "display_name": "Python 3 (ipykernel)",
   "language": "python",
   "name": "python3"
  },
  "language_info": {
   "codemirror_mode": {
    "name": "ipython",
    "version": 3
   },
   "file_extension": ".py",
   "mimetype": "text/x-python",
   "name": "python",
   "nbconvert_exporter": "python",
   "pygments_lexer": "ipython3",
   "version": "3.11.7"
  }
 },
 "nbformat": 4,
 "nbformat_minor": 5
}
