{
 "cells": [
  {
   "cell_type": "markdown",
   "metadata": {
    "tags": []
   },
   "source": [
    "# MOOC Machine learning with scikit-learn\n",
    "\n",
    "<img src=\"../figures/scikit-learn-logo.svg\" style=\"width: 90%;\">\n"
   ]
  },
  {
   "cell_type": "markdown",
   "metadata": {},
   "source": [
    "https://inria.github.io/scikit-learn-mooc/"
   ]
  },
  {
   "cell_type": "markdown",
   "metadata": {},
   "source": [
    "# What is machine learning?\n",
    "\n",
    "A first, introductory lesson, focusing on general concepts rather than\n",
    "coding or maths"
   ]
  },
  {
   "cell_type": "markdown",
   "metadata": {},
   "source": [
    "# What is machine learning?\n",
    "\n",
    "Machine learning deals with building predictive models"
   ]
  },
  {
   "cell_type": "markdown",
   "metadata": {},
   "source": [
    "# Why and when?\n",
    "\n",
    "First, I would like to discuss: Why and when would we use machine learning?\n",
    "\n",
    "Let me start with a couple examples.\n"
   ]
  },
  {
   "cell_type": "markdown",
   "metadata": {},
   "source": [
    "# Which iris is that?\n",
    "<br>\n",
    "<img src=\"../figures/iris-silhouette.svg\" style=\"width: 50px\">"
   ]
  },
  {
   "cell_type": "markdown",
   "metadata": {},
   "source": [
    "Consider flowers, for instance.<br>\n",
    "I am not very good at recognizing them.<br>\n",
    "This is an iris. <br>\n",
    "There are three classic types of iris, But what type?\n",
    "\n",
    "- Versicolor\n",
    "- Virginica\n",
    "- Setosa"
   ]
  },
  {
   "cell_type": "markdown",
   "metadata": {},
   "source": [
    "<img src=\"../figures/iris_5.jpg\" style=\"width: 450px\">"
   ]
  },
  {
   "cell_type": "markdown",
   "metadata": {},
   "source": [
    "<img src=\"../figures/iris_4.jpg\" style=\"width: 450px\">"
   ]
  },
  {
   "cell_type": "markdown",
   "metadata": {},
   "source": [
    "Maybe I can use machine learning to build rules to set them apart?\n",
    "\n",
    "For this, I will describe the irises with some of their physical\n",
    "characteristics, such as their petal and sepal length and width.\n",
    "I can measure the dimensions of their sepal and petal."
   ]
  },
  {
   "cell_type": "markdown",
   "metadata": {},
   "source": [
    "| Sepal length | Sepal width | Petal length | Petal width | Iris type  |\n",
    "| ------------ | ----------- | ------------ | ----------- | ---------- |\n",
    "| 6cm          | 3.4cm       | 4.5cm        | 1.6cm       | versicolor |\n",
    "| 5.7cm        | 3.8cm       | 1.7cm        | 0.3cm       | setosa     |\n",
    "| 6.5cm        | 3.2cm       | 5.1cm        | 2cm         | virginica  |\n",
    "| 5cm          | 3.cm        | 1.6cm        | 0.2cm       | setosa     |\n"
   ]
  },
  {
   "cell_type": "markdown",
   "metadata": {},
   "source": [
    "I now have a set of numerical characteristics describing irises.<br>\n",
    "Can I build decision rules from these numbers? Maybe.<br>\n",
    "See, for instance,\n",
    "it seems that setosa irises have a very small petal."
   ]
  },
  {
   "cell_type": "markdown",
   "metadata": {},
   "source": [
    "<img src=\"../figures/people.svg\" style=\"position: absolute; right: 1ex; top: 1ex; width: 200px\">"
   ]
  },
  {
   "cell_type": "markdown",
   "metadata": {},
   "source": [
    "# Is this person rich?\n",
    "Let us consider a problem closer to a business case; that of estimating\n",
    "the income of someone."
   ]
  },
  {
   "cell_type": "markdown",
   "metadata": {},
   "source": [
    "<img src=\"../figures/people.svg\" style=\" width: 150px\">"
   ]
  },
  {
   "cell_type": "markdown",
   "metadata": {},
   "source": [
    "US Census data:\n",
    "\n",
    "| Age | Workclass | Education    | Marital-status     | Occupation        | Relationship | Race  | Sex  | Capital-gain | Hours-per-week | Native-country | Class |\n",
    "| --- | --------- | ------------ | ------------------ | ----------------- | ------------ | ----- | ---- | ------------ | -------------- | -------------- | ----- |\n",
    "| 25  | Private   | 11th         | Never-married      | Machine-op-inspct | Own-child    | Black | Male | 0            | 40             | United-States  | <=50K |\n",
    "| 38  | Private   | HS-grad      | Married-civ-spouse | Farming-fishing   | Husband      | White | Male | 0            | 50             | United-States  | <=50K |\n",
    "| 28  | Local-gov | Assoc-acdm   | Married-civ-spouse | Protective-serv   | Husband      | White | Male | 0            | 40             | United-States  | >50K  |\n",
    "| 44  | Private   | Some-college | Married-civ-spouse | Machine-op-inspct | Husband      | Black | Male | 7688         | 40             | United-States  | >50K  |\n"
   ]
  },
  {
   "cell_type": "markdown",
   "metadata": {},
   "source": [
    "For this, we can use data from the US census.\n",
    "\n",
    "As you see, it gives fairly diverse information about individuals:\n",
    "_age, work class, education, marital status, occupation, relationship, and more information_,\n",
    "as well as whether they earn more or less than 50 thousand dollars a year.\n",
    "We can use machine learning to build rules that will predict this income\n",
    "information from the rest of the demographic information.\n",
    "\n",
    "You can also see that, even in a simple example like this, having\n",
    "intuitions about the information available on many individuals can be a\n",
    "bit challenging. Data visualization will come in handy.\n"
   ]
  },
  {
   "cell_type": "markdown",
   "metadata": {},
   "source": [
    "# Engineering rules: data versus experts\n",
    "\n",
    "Expert knowledge: setosa irises have small petals\n"
   ]
  },
  {
   "cell_type": "markdown",
   "metadata": {},
   "source": [
    "<img src=\"../figures/iris-silhouette_gray.svg\" style=\"width: 50px;\">"
   ]
  },
  {
   "cell_type": "markdown",
   "metadata": {},
   "source": [
    "So, machine learning is about engineering decision rules from the data.<br>\n",
    "Experts can also engineer decision rules from their knowledge of the problem.<br>\n",
    "For instance, flower experts know that setosa irises have small petals <br>"
   ]
  },
  {
   "cell_type": "markdown",
   "metadata": {},
   "source": [
    "<table>\n",
    "<thead><tr>\n",
    "\t<th>Sepal length</th>\n",
    "\t<th>Sepal width</th>\n",
    "\t<th>Petal length</th>\n",
    "\t<th>Petal width</th>\n",
    "</tr></thead>\n",
    "<tbody><tr>\n",
    "    <td>\n",
    "    <img src=\"../figures/iris_sepal_length_cm_hist.svg\" style=\"width: 100%;\">\n",
    "    </td>\n",
    "    <td>\n",
    "    <img src=\"../figures/iris_sepal_width_cm_hist.svg\" style=\"width: 100%;\">\n",
    "    </td>\n",
    "    <td>\n",
    "    <img src=\"../figures/iris_petal_length_cm_hist.svg\" style=\"width: 100%;\">\n",
    "    </td>\n",
    "    <td>\n",
    "    <img src=\"../figures/iris_petal_width_cm_hist.svg\" style=\"width: 100%;\">\n",
    "    </td>\n",
    "    </tr></tbody>\n",
    "</table>\n",
    "\n",
    "<img src=\"../figures/legend_irises.svg\" style='float: left;'>"
   ]
  },
  {
   "cell_type": "markdown",
   "metadata": {},
   "source": [
    "This rule can also be inferred by looking at the data. <br>\n",
    "If we look at the\n",
    "distribution of the sepal and petal measurements for the different iris\n",
    "species, we can see that petal length and width single out well setosa."
   ]
  },
  {
   "cell_type": "markdown",
   "metadata": {},
   "source": [
    "_But how can we deal with more complex, more numerous data?_"
   ]
  },
  {
   "cell_type": "markdown",
   "metadata": {},
   "source": [
    "**The benefit of machine-learning is that it automates the creation of rules\n",
    "from the data, including their details, such as to where exactly to set the\n",
    "threshold on the petal length, as we saw in this example.**"
   ]
  },
  {
   "cell_type": "markdown",
   "metadata": {},
   "source": [
    "_In concrete terms, machine learning builds the prediction rules from the data._"
   ]
  },
  {
   "cell_type": "markdown",
   "metadata": {},
   "source": [
    "# Predictive analysis (예측분석)\n",
    "\n",
    "We will now get to the heart of the matter by focusing on predictive models.\n",
    "\n",
    "To build predictive models we are going to rely on statistical\n",
    "properties of the data.<br> However, the questions and the tools that we\n",
    "will use differ a bit from those traditionally used in statistics."
   ]
  },
  {
   "cell_type": "markdown",
   "metadata": {},
   "source": [
    "# Generalizing"
   ]
  },
  {
   "cell_type": "markdown",
   "metadata": {},
   "source": [
    "<img src=\"../figures/people.svg\" style=\"width: 100px\">"
   ]
  },
  {
   "cell_type": "markdown",
   "metadata": {
    "tags": []
   },
   "source": [
    "In machine learning, we want to conclude on new instances.<br> In the\n",
    "example on the census, we want to be able to predict the income of new\n",
    "individuals, with a combination of jobs and demographics that we have\n",
    "never seen.\n"
   ]
  },
  {
   "cell_type": "markdown",
   "metadata": {
    "tags": []
   },
   "source": [
    "The challenge is that there are many ways an individual can vary,\n",
    "even within the limited description given by our data.\n",
    "\n",
    "Many sources of variability:\n",
    "\n",
    "- age\n",
    "- workclass\n",
    "- education\n",
    "- marital-status\n",
    "- occupation\n",
    "- relationship\n",
    "- race\n",
    "- sex\n",
    "- capital-gain\n",
    "- hours-per-week\n",
    "- native-country\n"
   ]
  },
  {
   "cell_type": "markdown",
   "metadata": {
    "tags": []
   },
   "source": [
    "An additional difficulty is the noise in the data.<br> By noise, we mean the\n",
    "aspects that cannot be explained solely from the data.<br> For instance,\n",
    "an individual's income may have been influenced by the mood of his\n",
    "manager during his annual review, which is not in our database."
   ]
  },
  {
   "cell_type": "markdown",
   "metadata": {},
   "source": [
    "# Memorizing"
   ]
  },
  {
   "cell_type": "markdown",
   "metadata": {},
   "source": [
    "<img src=\"../figures/people.svg\" style=\"width: 100px\">"
   ]
  },
  {
   "cell_type": "markdown",
   "metadata": {},
   "source": [
    "- store all known individuals \n",
    "- given a new individual, predict the income of its closest match in our database"
   ]
  },
  {
   "cell_type": "markdown",
   "metadata": {},
   "source": [
    "Given the problem of predicting income, we can store all the information\n",
    "from the census.<br> Then, given a new individual, we predict the\n",
    "income of its closest match in our database."
   ]
  },
  {
   "cell_type": "markdown",
   "metadata": {},
   "source": [
    "This strategy is known is machine learning as a \"nearest neighbor(최근접이웃)\"\n",
    "predictor."
   ]
  },
  {
   "cell_type": "markdown",
   "metadata": {},
   "source": [
    "If we tried this on individuals from the data we have,\n",
    "what error rate do we expect?"
   ]
  },
  {
   "cell_type": "markdown",
   "metadata": {},
   "source": [
    "> **0 errors**"
   ]
  },
  {
   "cell_type": "markdown",
   "metadata": {},
   "source": [
    "Every individual for which we are asking a prediction has been memorized.<br>\n",
    "Thus, its closest match will be itself, and as a consequence, we will\n",
    "have zero prediction error.\n"
   ]
  },
  {
   "cell_type": "markdown",
   "metadata": {},
   "source": [
    "\n",
    "However, if we try this strategy on unseen data, it will not be able to\n",
    "find exact matches.<br> Hence, it will make some errors."
   ]
  },
  {
   "cell_type": "markdown",
   "metadata": {},
   "source": [
    "What we are seeing here is that **generalizing is very different from memorizing**.<br> This is a fundamental challenge of machine learning."
   ]
  },
  {
   "cell_type": "markdown",
   "metadata": {},
   "source": [
    "- Different sampling of noise\n",
    "- Unobserved combination of features"
   ]
  },
  {
   "cell_type": "markdown",
   "metadata": {},
   "source": [
    "The reason is that the data on which we apply the predictive model, known\n",
    "as the test data, is different from the data used to build the predictive\n",
    "model, known as the train data.\n",
    "\n",
    "They are different because there might be different noise, but also\n",
    "because there might be individuals with new configuration of features\n",
    "that we have not observed: different combinations of occupation, age, or\n",
    "marital status for instance.\n"
   ]
  },
  {
   "cell_type": "markdown",
   "metadata": {},
   "source": [
    "# The machine-learning workflow\n",
    "\n",
    "<img src=\"../figures/workflow.png\" width=\"90%\">"
   ]
  },
  {
   "cell_type": "markdown",
   "metadata": {},
   "source": [
    "The typical workflow in machine-learning is to use a given dataset to\n",
    "learn a predictive model, for instance predicting the type of iris, and\n",
    "then to apply it to new data, or what we will call a \"test\" set, to put\n",
    "the model in production, or to check its validity."
   ]
  },
  {
   "cell_type": "markdown",
   "metadata": {},
   "source": [
    "# Some vocabulary\n",
    "To go further, it is useful to define some machine learning concepts."
   ]
  },
  {
   "cell_type": "markdown",
   "metadata": {},
   "source": [
    "# The data matrix\n",
    "\n",
    "We deal with a table of data (figuratively, an Excel sheet):\n",
    "\n",
    "- Rows are different observations, or **samples**\n",
    "- Columns are different descriptors, or **features**\n"
   ]
  },
  {
   "cell_type": "markdown",
   "metadata": {},
   "source": [
    "\n",
    "| Sepal length | Sepal width | Petal length | Petal width | Iris type |\n",
    "| ------------ | ----------- | ------------ | ----------- | ---------- |\n",
    "| 6cm | 3.4cm | 4.5cm | 1.6cm | versicolor |\n",
    "| 5.7cm | 3.8cm | 1.7cm | 0.3cm | setosa |\n",
    "| 6.5cm | 3.2cm | 5.1cm | 2cm | virginica |\n",
    "| 5cm | 3.cm | 1.6cm | 0.2cm | setosa |\n"
   ]
  },
  {
   "cell_type": "markdown",
   "metadata": {},
   "source": [
    "\n",
    "All the data that we will consider will be in what we call a _data\n",
    "matrix_. It can be seen as describing our problem in a 2D table:\n",
    "\n",
    "- the different rows of this table are different observations, for\n",
    "  instance different irises. We call these \"samples\"\n",
    "\n",
    "- the columns of this table give the different measures or descriptors\n",
    "  that we have for these samples. We call them \"features\"."
   ]
  },
  {
   "cell_type": "markdown",
   "metadata": {},
   "source": [
    "# Supervised machine learning"
   ]
  },
  {
   "cell_type": "markdown",
   "metadata": {},
   "source": [
    "<img src=\"../figures/supervised.png\" width=\"40%\" style=\"float: left\">"
   ]
  },
  {
   "cell_type": "markdown",
   "metadata": {},
   "source": [
    "In supervised machine learning, the data that we have are annotated.\n",
    "In other words, they are associated with a label or a target class.\n",
    "For irises, each data point is associated with a type of iris: our target class.\n",
    "The purpose of supervised learning is to predict this target (here the type of iris)\n",
    "on new data without annotation (entering only petal and sepal dimensions).\n",
    "\n",
    "In mathematical terms, for supervised machine learning, we are given\n",
    "\n",
    "- a data matrix, that we shall denote _X_, with _n_ observations\n",
    "\n",
    "- a **target** _y_, which gives a characteristic for each observation\n",
    "\n",
    "The goal of supervised learning is to predict _y_ from _X_."
   ]
  },
  {
   "cell_type": "markdown",
   "metadata": {},
   "source": [
    "# Unsupervised machine learning\n",
    "<img src=\"../figures/unsupervised.png\" width=\"40%\" style=\"float: left\">"
   ]
  },
  {
   "cell_type": "markdown",
   "metadata": {},
   "source": [
    "In unsupervised learning, we are given the data matrix _X_,\n",
    "but we have no available target.\n",
    "\n",
    "The goal is then to extract some form of structure from _X_ that\n",
    "generalizes to new data.\n",
    "\n",
    "If we take the example of irises, in unsupervised learning, the input\n",
    "data would not include the type of iris because the data is not annotated.\n",
    "The goal could therefore be to find similarities and structures within\n",
    "the data, or to group together observations that share common characteristics.\n",
    "\n",
    "Unsupervised learning covers a very wide variety of different problems.\n",
    "Though we will not cover them for now."
   ]
  },
  {
   "cell_type": "markdown",
   "metadata": {},
   "source": [
    "# Regression and classification\n",
    "\n",
    "Supervised learning: predicting a target _y_\n",
    "\n",
    "- **Classification**: _y_ is discrete (qualitative), made of different classes\n",
    "\n",
    "  _eg_ types of irises: Setosa, Versicolor, Virginica\n",
    "\n",
    "- **Regression**: _y_ is continuous (quantitative), a numerical quantity\n",
    "\n",
    "  _eg_ wage prediction"
   ]
  },
  {
   "cell_type": "markdown",
   "metadata": {},
   "source": [
    "\n",
    "Going back to supervised learning, we have to predict a target _y_.\n",
    "This target is a property of our data.\n",
    "\n",
    "It may be discrete, describing different classes of the data.\n",
    "For instance with irises, we are trying to predict the type of iris.\n",
    "In such a situation, we say that it is a classification task.\n",
    "\n",
    "It may be continuous, describing a numerical property of our observation.\n",
    "For instance, when trying to predict from the census who is rich, it\n",
    "would be interesting to predict the income, in dollars.\n",
    "In such a situation, we say that it is a regression task.\n",
    "\n",
    "In other words, use regression for quantitative properties,\n",
    "and classification for qualitative properties."
   ]
  },
  {
   "cell_type": "markdown",
   "metadata": {},
   "source": [
    "\n",
    "# summary\n",
    "- Machine learning is about extracting from _data_ rules that _generalizes_\n",
    "  to new observations\n",
    "\n",
    "- We work with:\n",
    "\n",
    "  - a data matrix _X_ _n_samples_ \\* _n_features_\n",
    "  - a target _y_ of length _n_samples_, made of numbers for _regression_\n",
    "    and of discrete classes for _classification_\n",
    "\n",
    "<img src=\"../figures/workflow.png\" width=\"40%\">\n",
    "\n",
    "In practice, we will work with a data matrix, that we will call _X_, with\n",
    "_n_samples_ rows times _n_features_ columns. For supervised learning,\n",
    "we have a target vector _y_, of length _n_samples_, which is made of\n",
    "numbers characterizing each observation for regression problems and of\n",
    "discrete classes for classification problems.\n"
   ]
  }
 ],
 "metadata": {
  "kernelspec": {
   "display_name": "Python 3 (ipykernel)",
   "language": "python",
   "name": "python3"
  },
  "language_info": {
   "codemirror_mode": {
    "name": "ipython",
    "version": 3
   },
   "file_extension": ".py",
   "mimetype": "text/x-python",
   "name": "python",
   "nbconvert_exporter": "python",
   "pygments_lexer": "ipython3",
   "version": "3.11.7"
  }
 },
 "nbformat": 4,
 "nbformat_minor": 4
}
