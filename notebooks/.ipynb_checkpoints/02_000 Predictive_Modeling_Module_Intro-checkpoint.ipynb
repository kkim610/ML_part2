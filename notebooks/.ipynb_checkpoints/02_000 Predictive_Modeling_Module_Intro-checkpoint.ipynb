{
 "cells": [
  {
   "cell_type": "markdown",
   "id": "e4028f4b-8e6b-4c86-b8e1-9a9497891c83",
   "metadata": {},
   "source": [
    "# Module overview\n",
    "## What you will learn\n",
    "This module will give an example of a typical predictive modeling pipeline developed using tabular data (data that can be structured in a 2-dimensional table). <br> We will present this pipeline in a progressive way.<br> First, we will make an analysis of the dataset used.<br> Subsequently, we will train our first predictive pipeline with a subset of the dataset.<br> Then, we will give particular attention to the type of data, numerical and categorical, that our model has to handle.<br> Finally, we will extend our pipeline to use mixed types of data, i.e. numerical and categorical data."
   ]
  },
  {
   "cell_type": "markdown",
   "id": "fad299ac-f71e-47dc-b01f-4a46f170518b",
   "metadata": {},
   "source": [
    "## Before getting started\n",
    "The required technical skills to carry on this module are:\n",
    "\n",
    "- basic knowledge of Python programming\n",
    "- some prior experience with the NumPy, pandas and Matplotlib libraries is recommended but not required\n",
    "\n",
    "For a quick introduction on these requirements, you can use the following resources:\n",
    "\n",
    "- Introduction to Python\n",
    "- Introduction to NumPy\n",
    "- Introduction to Pandas\n",
    "- Introduction to Matplotlib"
   ]
  },
  {
   "cell_type": "markdown",
   "id": "4d105979-238f-4f51-8614-8817a0935fac",
   "metadata": {},
   "source": [
    "## Objectives and time schedule\n",
    "The objective in the module are the following:\n",
    "\n",
    "- build intuitions regarding an unknown dataset;\n",
    "- identify and differentiate numerical and categorical features;\n",
    "- create an advanced predictive pipeline with scikit-learn.\n",
    "\n",
    "The estimated time to go through this module is about 6 hours"
   ]
  },
  {
   "cell_type": "code",
   "execution_count": null,
   "id": "30cdec03-fdf3-47e0-9056-20ecc9969928",
   "metadata": {},
   "outputs": [],
   "source": []
  }
 ],
 "metadata": {
  "kernelspec": {
   "display_name": "Python 3 (ipykernel)",
   "language": "python",
   "name": "python3"
  },
  "language_info": {
   "codemirror_mode": {
    "name": "ipython",
    "version": 3
   },
   "file_extension": ".py",
   "mimetype": "text/x-python",
   "name": "python",
   "nbconvert_exporter": "python",
   "pygments_lexer": "ipython3",
   "version": "3.7.13"
  }
 },
 "nbformat": 4,
 "nbformat_minor": 5
}
