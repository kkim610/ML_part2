{
 "cells": [
  {
   "cell_type": "markdown",
   "id": "45f93357",
   "metadata": {},
   "source": [
    "# Linear model for classification\n",
    "In regression, we saw that the target to be predicted was a continuous\n",
    "variable. In classification, this target will be discrete (e.g. categorical).\n",
    "\n",
    "We will go back to our penguin dataset. However, this time we will try to\n",
    "predict the penguin species using the culmen information. We will also\n",
    "simplify our classification problem by selecting only 2 of the penguin\n",
    "species to solve a binary classification problem."
   ]
  },
  {
   "cell_type": "markdown",
   "id": "b9d12e86",
   "metadata": {},
   "source": [
    "<div class=\"admonition note alert alert-info\">\n",
    "<p class=\"first admonition-title\" style=\"font-weight: bold;\">Note</p>\n",
    "<p class=\"last\">If you want a deeper overview regarding this dataset, you can refer to the\n",
    "Appendix - Datasets description section at the end of this MOOC.</p>\n",
    "</div>"
   ]
  },
  {
   "cell_type": "code",
   "execution_count": null,
   "id": "c53c6c1e",
   "metadata": {},
   "outputs": [],
   "source": [
    "import pandas as pd\n",
    "\n",
    "penguins = pd.read_csv(\"../datasets/penguins_classification.csv\")\n",
    "\n",
    "# only keep the Adelie and Chinstrap classes\n",
    "penguins = penguins.set_index(\"Species\").loc[\n",
    "    [\"Adelie\", \"Chinstrap\"]].reset_index()\n",
    "culmen_columns = [\"Culmen Length (mm)\", \"Culmen Depth (mm)\"]\n",
    "target_column = \"Species\""
   ]
  },
  {
   "cell_type": "code",
   "execution_count": null,
   "id": "a1e4cb4b-cb26-4e01-851c-a0eaf2ff0b22",
   "metadata": {},
   "outputs": [],
   "source": [
    "penguins = pd.read_csv(\"../datasets/penguins_classification.csv\")\n",
    "penguins"
   ]
  },
  {
   "cell_type": "code",
   "execution_count": null,
   "id": "816f089a-133a-4b6b-8c2f-53e0dd33656e",
   "metadata": {},
   "outputs": [],
   "source": [
    "penguins.set_index(\"Species\")"
   ]
  },
  {
   "cell_type": "code",
   "execution_count": null,
   "id": "99d41cb4-e933-4c7a-be05-c8c0607bead6",
   "metadata": {},
   "outputs": [],
   "source": [
    "penguins.set_index(\"Species\").loc[\n",
    "    [\"Adelie\", \"Chinstrap\"]]"
   ]
  },
  {
   "cell_type": "code",
   "execution_count": null,
   "id": "a313bb01-a944-487d-b119-fb428d5962a1",
   "metadata": {},
   "outputs": [],
   "source": [
    "penguins.set_index(\"Species\").loc[\n",
    "    [\"Adelie\", \"Chinstrap\"]].reset_index()"
   ]
  },
  {
   "cell_type": "code",
   "execution_count": null,
   "id": "bf1d716e-f863-4d57-8efa-54de3c0fd0ce",
   "metadata": {},
   "outputs": [],
   "source": [
    "import pandas as pd\n",
    "\n",
    "penguins = pd.read_csv(\"../datasets/penguins_classification.csv\")\n",
    "\n",
    "# only keep the Adelie and Chinstrap classes\n",
    "penguins = penguins.set_index(\"Species\").loc[\n",
    "    [\"Adelie\", \"Chinstrap\"]].reset_index()\n",
    "culmen_columns = [\"Culmen Length (mm)\", \"Culmen Depth (mm)\"]\n",
    "target_column = \"Species\""
   ]
  },
  {
   "cell_type": "code",
   "execution_count": null,
   "id": "e8a0a9bb-e7cd-48c9-bcf9-719f9674df9c",
   "metadata": {},
   "outputs": [],
   "source": []
  },
  {
   "cell_type": "markdown",
   "id": "7bcdeedb",
   "metadata": {},
   "source": [
    "We can quickly start by visualizing the feature distribution by class:"
   ]
  },
  {
   "cell_type": "code",
   "execution_count": null,
   "id": "2b709351",
   "metadata": {},
   "outputs": [],
   "source": [
    "import matplotlib.pyplot as plt\n",
    "\n",
    "for feature_name in culmen_columns:\n",
    "    plt.figure()\n",
    "    # plot the histogram for each specie\n",
    "    penguins.groupby(\"Species\")[feature_name].plot.hist(alpha=0.5, legend=True)\n",
    "    plt.xlabel(feature_name)"
   ]
  },
  {
   "cell_type": "markdown",
   "id": "7b5adf9a",
   "metadata": {},
   "source": [
    "We can observe that we have quite a simple problem. When the culmen\n",
    "length increases, the probability that the penguin is a Chinstrap is closer\n",
    "to 1. However, the culmen depth is not helpful for predicting the penguin\n",
    "species.\n",
    "\n",
    "For model fitting, we will separate the target from the data and\n",
    "we will create a training and a testing set."
   ]
  },
  {
   "cell_type": "code",
   "execution_count": null,
   "id": "6bcbe5e2",
   "metadata": {},
   "outputs": [],
   "source": [
    "from sklearn.model_selection import train_test_split\n",
    "\n",
    "penguins_train, penguins_test = train_test_split(penguins, random_state=0)\n",
    "\n",
    "data_train = penguins_train[culmen_columns]\n",
    "data_test = penguins_test[culmen_columns]\n",
    "\n",
    "target_train = penguins_train[target_column]\n",
    "target_test = penguins_test[target_column]"
   ]
  },
  {
   "cell_type": "code",
   "execution_count": null,
   "id": "73e4487d-78c7-4681-b6e8-d81d45a47edd",
   "metadata": {},
   "outputs": [],
   "source": [
    "target_train[:5]"
   ]
  },
  {
   "cell_type": "code",
   "execution_count": null,
   "id": "188e9e52-ef97-47f3-8239-b668dec761e1",
   "metadata": {},
   "outputs": [],
   "source": [
    "data_train[:5]"
   ]
  },
  {
   "cell_type": "markdown",
   "id": "cc78d51b",
   "metadata": {},
   "source": [
    "\n",
    "The linear regression that we previously saw will predict a continuous\n",
    "output. When the target is a binary outcome, one can use the logistic\n",
    "function to model the probability. This model is known as logistic\n",
    "regression.\n",
    "\n",
    "Scikit-learn provides the class `LogisticRegression` which implements this\n",
    "algorithm."
   ]
  },
  {
   "cell_type": "code",
   "execution_count": null,
   "id": "f41450d7",
   "metadata": {},
   "outputs": [],
   "source": [
    "import sklearn\n",
    "sklearn.set_config(display=\"diagram\")"
   ]
  },
  {
   "cell_type": "code",
   "execution_count": null,
   "id": "eabc38f3",
   "metadata": {},
   "outputs": [],
   "source": [
    "from sklearn.pipeline import make_pipeline\n",
    "from sklearn.preprocessing import StandardScaler\n",
    "from sklearn.linear_model import LogisticRegression\n",
    "\n",
    "logistic_regression = make_pipeline(\n",
    "    StandardScaler(), LogisticRegression(penalty=\"none\")\n",
    ")\n",
    "kk=logistic_regression.fit(data_train, target_train)\n",
    "accuracy = logistic_regression.score(data_test, target_test)\n",
    "print(f\"Accuracy on test set: {accuracy:.3f}\")"
   ]
  },
  {
   "cell_type": "code",
   "execution_count": null,
   "id": "11e04e00-ce6d-4fae-94eb-f136a3fa375f",
   "metadata": {},
   "outputs": [],
   "source": [
    "LogisticRegression?"
   ]
  },
  {
   "cell_type": "markdown",
   "id": "9d0a78fa",
   "metadata": {},
   "source": [
    "\n",
    "Since we are dealing with a classification problem containing only 2\n",
    "features, it is then possible to observe the decision function boundary.\n",
    "The boundary is the rule used by our predictive model to affect a class label\n",
    "given the feature values of the sample.\n",
    "\n",
    "<div class=\"admonition note alert alert-info\">\n",
    "<p class=\"first admonition-title\" style=\"font-weight: bold;\">Note</p>\n",
    "<p>Here, we will use the class <tt class=\"docutils literal\">DecisionBoundaryDisplay</tt>. This educational tool\n",
    "allows us to gain some insights by plotting the decision function boundary\n",
    "learned by the classifier in a 2 dimensional feature space.</p>\n",
    "<p class=\"last\">Notice however that in more realistic machine learning contexts, one would\n",
    "typically fit on more than two features at once and therefore it would not be\n",
    "possible to display such a visualization of the decision boundary in\n",
    "general.</p>\n",
    "</div>"
   ]
  },
  {
   "cell_type": "code",
   "execution_count": null,
   "id": "5c1a7c40",
   "metadata": {},
   "outputs": [],
   "source": [
    "import seaborn as sns\n",
    "from sklearn.inspection import DecisionBoundaryDisplay\n",
    "\n",
    "DecisionBoundaryDisplay.from_estimator(\n",
    "    logistic_regression, data_test, response_method=\"predict\", cmap=\"RdBu_r\", alpha=0.5\n",
    ")\n",
    "sns.scatterplot(\n",
    "    data=penguins_test, x=culmen_columns[0], y=culmen_columns[1],\n",
    "    hue=target_column, palette=[\"tab:red\", \"tab:blue\"])\n",
    "_ = plt.title(\"Decision boundary of the trained\\n LogisticRegression\")"
   ]
  },
  {
   "cell_type": "markdown",
   "id": "1ed8a23f",
   "metadata": {},
   "source": [
    "Thus, we see that our decision function is represented by a line separating\n",
    "the 2 classes. We should also note that we did not impose any regularization\n",
    "by setting the parameter `penalty` to `'none'`.\n",
    "\n",
    "Since the line is oblique, it means that we used a combination of both\n",
    "features:"
   ]
  },
  {
   "cell_type": "code",
   "execution_count": null,
   "id": "08422b13",
   "metadata": {},
   "outputs": [],
   "source": [
    "coefs = logistic_regression[-1].coef_[0]  # the coefficients is a 2d array\n",
    "weights = pd.Series(coefs, index=culmen_columns)"
   ]
  },
  {
   "cell_type": "code",
   "execution_count": null,
   "id": "f60e05e5-7887-455a-a5b0-61a3c33d7da2",
   "metadata": {},
   "outputs": [],
   "source": [
    "coefs"
   ]
  },
  {
   "cell_type": "code",
   "execution_count": null,
   "id": "5b819963-6f7c-48ea-9b3e-3ead4808bfc3",
   "metadata": {},
   "outputs": [],
   "source": [
    "weights"
   ]
  },
  {
   "cell_type": "code",
   "execution_count": null,
   "id": "00fd0a32-f28f-4976-9493-47df4bc035c3",
   "metadata": {},
   "outputs": [],
   "source": [
    "logistic_regression[-1].coef_"
   ]
  },
  {
   "cell_type": "code",
   "execution_count": null,
   "id": "ab7c6035-8362-4ef1-8ea9-35ed2a7e65df",
   "metadata": {},
   "outputs": [],
   "source": [
    "logistic_regression[-1].intercept_"
   ]
  },
  {
   "cell_type": "code",
   "execution_count": null,
   "id": "0d927590-283e-4a6b-be62-86d295beac0f",
   "metadata": {},
   "outputs": [],
   "source": [
    "data_train[:5]"
   ]
  },
  {
   "cell_type": "code",
   "execution_count": null,
   "id": "489fa537-b7ef-4d2d-bfd5-b67b3e86148d",
   "metadata": {},
   "outputs": [],
   "source": [
    "target_train[:5]"
   ]
  },
  {
   "cell_type": "code",
   "execution_count": null,
   "id": "8df000bb-4f28-44a0-9c4b-e5115282cef6",
   "metadata": {},
   "outputs": [],
   "source": [
    "logistic_regression.classes_"
   ]
  },
  {
   "cell_type": "code",
   "execution_count": null,
   "id": "f6a22c77-f5a7-4e59-b5b6-302cac6b35ee",
   "metadata": {},
   "outputs": [],
   "source": [
    "logistic_regression.predict_proba(data_train[:5])"
   ]
  },
  {
   "cell_type": "code",
   "execution_count": null,
   "id": "2c11f748-f5f3-4d97-afe0-507a283953ae",
   "metadata": {},
   "outputs": [],
   "source": [
    "logistic_regression.predict(data_train[:5])"
   ]
  },
  {
   "cell_type": "code",
   "execution_count": null,
   "id": "93ae6d6a",
   "metadata": {},
   "outputs": [],
   "source": [
    "weights.plot.barh()\n",
    "_ = plt.title(\"Weights of the logistic regression\")"
   ]
  },
  {
   "cell_type": "markdown",
   "id": "0e0aeb2c",
   "metadata": {},
   "source": [
    "Indeed, both coefficients are non-null. If one of them had been zero, the\n",
    "decision boundary would have been either horizontal or vertical.\n",
    "\n",
    "Furthermore the intercept is also non-zero, which means that the decision does\n",
    "not go through the point with (0, 0) coordinates.\n",
    "\n",
    "For the mathematically inclined reader, the equation of the decision boundary\n",
    "is:\n",
    "\n",
    "    coef0 * x0 + coef1 * x1 + intercept = 0\n",
    "\n",
    "where `x0` is `\"Culmen Length (mm)\"` and `x1` is `\"Culmen Depth (mm)\"`.\n",
    "\n",
    "This equation is equivalent to (assuming that `coef1` is non-zero):\n",
    "\n",
    "    x1 = coef0 / coef1 * x0 - intercept / coef1\n",
    "\n",
    "which is the equation of a straight line."
   ]
  },
  {
   "cell_type": "code",
   "execution_count": null,
   "id": "e076e8c1-4be2-440e-927f-23428f326c2d",
   "metadata": {},
   "outputs": [],
   "source": [
    "import pickle\n",
    "midterm_model = pickle.dumps(logistic_regression)\n",
    "\n",
    "# open a file, where you want to store the data\n",
    "file = open('midterm_model', 'wb')\n",
    "\n",
    "# dump information to that file\n",
    "pickle.dump(logistic_regression, file)\n",
    "\n",
    "# close the file\n",
    "file.close()\n"
   ]
  },
  {
   "cell_type": "markdown",
   "id": "d00eb20a-9fb5-48dc-9641-bfe8c39f4cf5",
   "metadata": {},
   "source": [
    "#### 채점은 이렇게 (채점용 데이터 이용)"
   ]
  },
  {
   "cell_type": "code",
   "execution_count": null,
   "id": "4e831ee8-30bf-4130-88e0-5f87a4bde96e",
   "metadata": {},
   "outputs": [],
   "source": [
    "import pickle\n",
    "\n",
    "# open a file, where you stored the pickled data\n",
    "file = open('midterm_model', 'rb')\n",
    "\n",
    "# dump information to that file\n",
    "restord_model = pickle.load(file)\n",
    "\n",
    "# close the file\n",
    "file.close()"
   ]
  },
  {
   "cell_type": "code",
   "execution_count": null,
   "id": "7e247c75-19c5-4878-9e97-1bf7b8f26131",
   "metadata": {},
   "outputs": [],
   "source": [
    "accuracy = restord_model.score(data_test, target_test)\n",
    "print(accuracy)"
   ]
  },
  {
   "cell_type": "code",
   "execution_count": null,
   "id": "60e5d3b3-266b-49e0-a4ad-32ade6188333",
   "metadata": {},
   "outputs": [],
   "source": [
    "restord_model.predict_proba(data_train[:5])"
   ]
  },
  {
   "cell_type": "code",
   "execution_count": null,
   "id": "a56dcef1-acdc-4d3b-b406-8aad4ceb1bc6",
   "metadata": {},
   "outputs": [],
   "source": [
    "restord_model.predict(data_train[:5])"
   ]
  },
  {
   "cell_type": "code",
   "execution_count": null,
   "id": "1934ca56-4860-4d88-b49c-cf2fff832df0",
   "metadata": {},
   "outputs": [],
   "source": []
  }
 ],
 "metadata": {
  "jupytext": {
   "main_language": "python"
  },
  "kernelspec": {
   "display_name": "Python 3 (ipykernel)",
   "language": "python",
   "name": "python3"
  },
  "language_info": {
   "codemirror_mode": {
    "name": "ipython",
    "version": 3
   },
   "file_extension": ".py",
   "mimetype": "text/x-python",
   "name": "python",
   "nbconvert_exporter": "python",
   "pygments_lexer": "ipython3",
   "version": "3.10.9"
  }
 },
 "nbformat": 4,
 "nbformat_minor": 5
}
