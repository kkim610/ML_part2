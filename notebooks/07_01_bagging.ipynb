{
 "cells": [
  {
   "cell_type": "markdown",
   "id": "ee4e6aa3-d853-4d29-9944-6a315bd0387c",
   "metadata": {},
   "source": [
    "# Ensemble of tree-based models\n",
    "\n",
    "Combine many decision trees into powerful models!\n",
    "\n",
    "Bagging and Random Forests\n",
    "\n",
    "Boosting and Gradient Boosting\n",
    "\n",
    "For classification and regression\n",
    "\n",
    "<img src=\"../figures/scikit-learn-logo.svg\">\n"
   ]
  },
  {
   "cell_type": "markdown",
   "id": "b47bba5f-c33a-4523-8648-5d0d4c6564ae",
   "metadata": {},
   "source": [
    "# Part 1: bagging and random forests"
   ]
  },
  {
   "cell_type": "markdown",
   "id": "8be7cf85-efc8-4365-8aea-0a98ecda51de",
   "metadata": {},
   "source": [
    "\n",
    "# Bagging for classification\n",
    "\n",
    "<img src=\"../figures/bagging0.svg\" width=\"40%\">\n",
    "\n",
    "<img src=\"../figures/bagging.svg\" width=\"50%\">\n",
    "\n"
   ]
  },
  {
   "cell_type": "markdown",
   "id": "9dd70c8c-7ddb-4f02-a08b-611f0d3d8b47",
   "metadata": {},
   "source": [
    "Here we have a classification task: separating circles from squares."
   ]
  },
  {
   "cell_type": "markdown",
   "id": "e3377135-9b81-473d-bc6e-76a86003e7d3",
   "metadata": {},
   "source": [
    "# Bagging for classification\n",
    "\n",
    "<img src=\"../figures/bagging0.svg\" width=\"40%\">\n",
    "<img src=\"../figures/bagging_line.svg\" width=\"50%\">\n",
    "\n",
    "<img src=\"../figures/bagging_trees.svg\" width=\"50%\">\n"
   ]
  },
  {
   "cell_type": "markdown",
   "id": "7c47c605-1937-4796-9059-e57e3ceb4852",
   "metadata": {},
   "source": [
    "# Bagging for classification\n",
    "\n",
    "<img src=\"../figures/bagging0_cross.svg\" width=\"40%\">\n",
    "<img src=\"../figures/bagging_cross.svg\" width=\"50%\">\n",
    "\n",
    "<img src=\"../figures/bagging_trees_predict.svg\" width=\"50%\">\n",
    "\n",
    "<img src=\"../figures/bagging_vote.svg\" width=\"50%\">\n"
   ]
  },
  {
   "cell_type": "markdown",
   "id": "e03875df-7226-4756-813b-3ce09a8c6b00",
   "metadata": {},
   "source": [
    "```python\n",
    "from sklearn.ensemble import BaggingClassifier\n",
    "from sklearn.ensemble import RandomForestClassifier\n",
    "```"
   ]
  },
  {
   "cell_type": "markdown",
   "id": "d473adc7-f17d-4458-be09-d8416fdd56ed",
   "metadata": {},
   "source": [
    "# Bagging for classification\n",
    "\n",
    "<img src=\"../figures/bagging0_cross.svg\" width=\"40%\">\n",
    "<img src=\"../figures/bagging_cross.svg\" width=\"50%\">\n",
    "\n",
    "<img src=\"../figures/bagging_trees_predict.svg\" width=\"50%\">\n",
    "\n",
    "\n",
    "```python\n",
    "from sklearn.ensemble import BaggingClassifier\n",
    "from sklearn.ensemble import RandomForestClassifier\n",
    "```\n"
   ]
  },
  {
   "cell_type": "markdown",
   "id": "a0c2d201-c1fc-482c-896d-7e2217cbc0b7",
   "metadata": {},
   "source": [
    "# Bagging for regression\n",
    "\n",
    "<img src=\"../figures/bagging_reg_data.svg\" width=\"50%\">"
   ]
  },
  {
   "cell_type": "markdown",
   "id": "7422c87d-67b3-468c-928a-8ad528556f05",
   "metadata": {},
   "source": [
    "# Bagging for regression\n",
    "\n",
    "\n",
    "<img src=\"../figures/bagging_reg_grey.svg\" width=\"120%\">\n",
    "\n",
    "\n",
    "\n",
    "- Select multiple random subsets of the data"
   ]
  },
  {
   "cell_type": "markdown",
   "id": "8e51d9e2-aa23-4a8e-8184-896cc4378df1",
   "metadata": {},
   "source": [
    "# Bagging for regression\n",
    "\n",
    "\n",
    "<img src=\"../figures/bagging_reg_grey_fitted.svg\" width=\"120%\">\n",
    "\n",
    "\n",
    "\n",
    "- Select multiple random subsets of the data\n",
    "- Fit one model on each\n"
   ]
  },
  {
   "cell_type": "markdown",
   "id": "2cdde2c7-a9da-4403-b38b-95c6759a6488",
   "metadata": {},
   "source": [
    "# Bagging for regression\n",
    "\n",
    "\n",
    "<img src=\"../figures/bagging_reg_grey_fitted.svg\" width=\"120%\">\n",
    "\n",
    "- Select multiple random subsets of the data\n",
    "- Fit one model on each\n",
    "- Average predictions"
   ]
  },
  {
   "cell_type": "markdown",
   "id": "db19d5ce-483d-4991-88d6-801b1e4ab53e",
   "metadata": {},
   "source": [
    "<img src=\"../figures/bagging_reg_blue.svg\" width=\"40%\">"
   ]
  },
  {
   "cell_type": "markdown",
   "id": "ef8229c2-1200-4058-8aa0-c694c5c14b3d",
   "metadata": {},
   "source": [
    "In bagging, we will construct deep trees independently of one another.\n",
    "\n",
    "Each tree will be fitted on a sub-sampling from the initial data. i.e. we will\n",
    "only consider a random part of the data to build each model.\n",
    "\n",
    "When we have to classify a new point, we will aggregate the predictions of all\n",
    "models in the ensemble with a voting scheme.\n",
    "\n",
    "Each deep tree overfits, but voting makes it possible to cancel out some of the\n",
    "training set noise. The ensemble overfits less than the individual models."
   ]
  },
  {
   "cell_type": "markdown",
   "id": "bddafa37-76af-47bc-887b-171bf235de9e",
   "metadata": {},
   "source": [
    "# Bagging versus Random Forests\n",
    "\n",
    "**Bagging** is a general strategy\n",
    "- Can work with any base model (linear, trees...)\n",
    "\n",
    "\n",
    "**Random Forests** are bagged *randomized* decision trees\n",
    "- At each split: a random subset of features are selected\n",
    "\n",
    "- The best split is taken among the restricted subset\n",
    "\n",
    "- Extra randomization decorrelates the prediction errors\n",
    "\n",
    "- Uncorrelated errors make bagging work better"
   ]
  },
  {
   "cell_type": "markdown",
   "id": "243829d8-c851-49c6-a03c-f451f0866c85",
   "metadata": {},
   "source": [
    "\n",
    "It's fine to use deep trees (`max_depth=None`) in random forests because of the\n",
    "reduced overfitting effect of prediction averaging.\n",
    "\n",
    "The more trees the better, typical to use 100 trees or more.\n",
    "\n",
    "Diminishing returns when increasing the number of trees.\n",
    "\n",
    "More trees: longer to fit, slower to predict and bigger models to deploy."
   ]
  },
  {
   "cell_type": "markdown",
   "id": "3afa1531-e7d8-4e35-ab83-a8a2dcf3ff7e",
   "metadata": {},
   "source": [
    "# Take away\n",
    "\n",
    "**Bagging** and **random forests** fit trees **independently**\n",
    "- each **deep tree overfits** individually\n",
    "- averaging the tree predictions **reduces overfitting**"
   ]
  }
 ],
 "metadata": {
  "kernelspec": {
   "display_name": "Python 3 (ipykernel)",
   "language": "python",
   "name": "python3"
  },
  "language_info": {
   "codemirror_mode": {
    "name": "ipython",
    "version": 3
   },
   "file_extension": ".py",
   "mimetype": "text/x-python",
   "name": "python",
   "nbconvert_exporter": "python",
   "pygments_lexer": "ipython3",
   "version": "3.11.7"
  }
 },
 "nbformat": 4,
 "nbformat_minor": 5
}
