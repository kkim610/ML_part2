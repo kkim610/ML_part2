{
 "cells": [
  {
   "cell_type": "markdown",
   "id": "533c41c8",
   "metadata": {},
   "source": [
    "# 📃 Solution for Exercise M3.02\n",
    "\n",
    "The goal is to find the best set of hyperparameters which maximize the\n",
    "generalization performance on a training set."
   ]
  },
  {
   "cell_type": "code",
   "execution_count": 1,
   "id": "20145767",
   "metadata": {},
   "outputs": [],
   "source": [
    "from sklearn.datasets import fetch_california_housing\n",
    "from sklearn.model_selection import train_test_split\n",
    "\n",
    "data, target = fetch_california_housing(return_X_y=True, as_frame=True)\n",
    "target *= 100  # rescale the target in k$\n",
    "\n",
    "data_train, data_test, target_train, target_test = train_test_split(\n",
    "    data, target, random_state=42)"
   ]
  },
  {
   "cell_type": "markdown",
   "id": "aa9db110",
   "metadata": {},
   "source": [
    "In this exercise, we will progressively define the regression pipeline\n",
    "and later tune its hyperparameters.\n",
    "\n",
    "Start by defining a pipeline that:\n",
    "* uses a `StandardScaler` to normalize the numerical data;\n",
    "* uses a `sklearn.neighbors.KNeighborsRegressor` as a predictive model."
   ]
  },
  {
   "cell_type": "code",
   "execution_count": 2,
   "id": "0f122940",
   "metadata": {},
   "outputs": [],
   "source": [
    "# solution\n",
    "from sklearn.pipeline import make_pipeline\n",
    "from sklearn.preprocessing import StandardScaler\n",
    "from sklearn.neighbors import KNeighborsRegressor\n",
    "\n",
    "scaler = StandardScaler()\n",
    "model = make_pipeline(scaler, KNeighborsRegressor())"
   ]
  },
  {
   "cell_type": "markdown",
   "id": "91eaa6be",
   "metadata": {},
   "source": [
    "Use `RandomizedSearchCV` with `n_iter=20` to find the best set of\n",
    "hyperparameters by tuning the following parameters of the `model`:\n",
    "\n",
    "- the parameter `n_neighbors` of the `KNeighborsRegressor` with values\n",
    "  `np.logspace(0, 3, num=10).astype(np.int32)`;\n",
    "- the parameter `with_mean` of the `StandardScaler` with possible values\n",
    "  `True` or `False`;\n",
    "- the parameter `with_std` of the `StandardScaler` with possible values\n",
    "  `True` or `False`.\n",
    "\n",
    "Notice that in the notebook \"Hyperparameter tuning by randomized-search\" we\n",
    "pass distributions to be sampled by the `RandomizedSearchCV`. In this case we\n",
    "define a fixed grid of hyperparameters to be explored. Using a `GridSearchCV`\n",
    "instead would explore all the possible combinations on the grid, which can be\n",
    "costly to compute for large grids, whereas the parameter `n_iter` of the\n",
    "`RandomizedSearchCV` controls the number of different random combination that\n",
    "are evaluated. Notice that setting `n_iter` larger than the number of possible\n",
    "combinations in a grid (in this case 10 x 2 x 2 = 40) would lead to repeating\n",
    "already-explored combinations.\n",
    "\n",
    "Once the computation has completed, print the best combination of parameters\n",
    "stored in the `best_params_` attribute."
   ]
  },
  {
   "cell_type": "code",
   "execution_count": 3,
   "id": "c09331db",
   "metadata": {},
   "outputs": [
    {
     "name": "stdout",
     "output_type": "stream",
     "text": [
      "Fitting 5 folds for each of 20 candidates, totalling 100 fits\n"
     ]
    },
    {
     "data": {
      "text/plain": [
       "{'standardscaler__with_std': True,\n",
       " 'standardscaler__with_mean': False,\n",
       " 'kneighborsregressor__n_neighbors': 10}"
      ]
     },
     "execution_count": 3,
     "metadata": {},
     "output_type": "execute_result"
    }
   ],
   "source": [
    "# solution\n",
    "import numpy as np\n",
    "from sklearn.model_selection import RandomizedSearchCV\n",
    "\n",
    "param_distributions = {\n",
    "    \"kneighborsregressor__n_neighbors\": np.logspace(0, 3, num=10).astype(np.int32),\n",
    "    \"standardscaler__with_mean\": [True, False],\n",
    "    \"standardscaler__with_std\": [True, False],\n",
    "}\n",
    "\n",
    "model_random_search = RandomizedSearchCV(\n",
    "    model, param_distributions=param_distributions,\n",
    "    n_iter=20, n_jobs=2, verbose=1, random_state=1)\n",
    "model_random_search.fit(data_train, target_train)\n",
    "model_random_search.best_params_"
   ]
  },
  {
   "cell_type": "markdown",
   "id": "cdee93a0",
   "metadata": {
    "tags": [
     "solution"
    ]
   },
   "source": [
    "So the best hyperparameters give a model where the features are scaled but not\n",
    "centered.\n",
    "\n",
    "Getting the best parameter combinations is the main outcome of the\n",
    "hyper-parameter optimization procedure. However it is also interesting to\n",
    "assess the sensitivity of the best models to the choice of those parameters.\n",
    "The following code, not required to answer the quiz question shows how to\n",
    "conduct such an interactive analysis for this this pipeline using a parallel\n",
    "coordinate plot using the `plotly` library.\n",
    "\n",
    "We could use `cv_results = model_random_search.cv_results_` to make a\n",
    "parallel coordinate plot as we did in the previous notebook (you are more\n",
    "than welcome to try!)."
   ]
  },
  {
   "cell_type": "code",
   "execution_count": 4,
   "id": "fa190ddd",
   "metadata": {
    "tags": [
     "solution"
    ]
   },
   "outputs": [],
   "source": [
    "import pandas as pd\n",
    "\n",
    "cv_results = pd.DataFrame(model_random_search.cv_results_)"
   ]
  },
  {
   "cell_type": "markdown",
   "id": "51f335aa",
   "metadata": {
    "tags": [
     "solution"
    ]
   },
   "source": [
    "To simplify the axis of the plot, we will rename the column of the dataframe\n",
    "and only select the mean test score and the value of the hyperparameters."
   ]
  },
  {
   "cell_type": "code",
   "execution_count": 5,
   "id": "238b17ec",
   "metadata": {
    "tags": [
     "solution"
    ]
   },
   "outputs": [],
   "source": [
    "column_name_mapping = {\n",
    "    \"param_kneighborsregressor__n_neighbors\": \"n_neighbors\",\n",
    "    \"param_standardscaler__with_mean\": \"centering\",\n",
    "    \"param_standardscaler__with_std\": \"scaling\",\n",
    "    \"mean_test_score\": \"mean test score\",\n",
    "}\n",
    "\n",
    "cv_results = cv_results.rename(columns=column_name_mapping)\n",
    "cv_results = cv_results[column_name_mapping.values()].sort_values(\n",
    "    \"mean test score\", ascending=False)"
   ]
  },
  {
   "cell_type": "markdown",
   "id": "20c2985d",
   "metadata": {
    "tags": [
     "solution"
    ]
   },
   "source": [
    "In addition, the parallel coordinate plot from `plotly` expects all data to be\n",
    "numeric. Thus, we convert the boolean indicator informing whether or not the\n",
    "data were centered or scaled into an integer, where True is mapped to 1 and\n",
    "False is mapped to 0. As `n_neighbors` has `dtype=object`, we also convert it\n",
    "explicitly to an integer."
   ]
  },
  {
   "cell_type": "code",
   "execution_count": 6,
   "id": "aca4a862",
   "metadata": {
    "tags": [
     "solution"
    ]
   },
   "outputs": [
    {
     "data": {
      "text/html": [
       "<div>\n",
       "<style scoped>\n",
       "    .dataframe tbody tr th:only-of-type {\n",
       "        vertical-align: middle;\n",
       "    }\n",
       "\n",
       "    .dataframe tbody tr th {\n",
       "        vertical-align: top;\n",
       "    }\n",
       "\n",
       "    .dataframe thead th {\n",
       "        text-align: right;\n",
       "    }\n",
       "</style>\n",
       "<table border=\"1\" class=\"dataframe\">\n",
       "  <thead>\n",
       "    <tr style=\"text-align: right;\">\n",
       "      <th></th>\n",
       "      <th>n_neighbors</th>\n",
       "      <th>centering</th>\n",
       "      <th>scaling</th>\n",
       "      <th>mean test score</th>\n",
       "    </tr>\n",
       "  </thead>\n",
       "  <tbody>\n",
       "    <tr>\n",
       "      <th>17</th>\n",
       "      <td>10</td>\n",
       "      <td>0</td>\n",
       "      <td>1</td>\n",
       "      <td>0.687926</td>\n",
       "    </tr>\n",
       "    <tr>\n",
       "      <th>18</th>\n",
       "      <td>4</td>\n",
       "      <td>0</td>\n",
       "      <td>1</td>\n",
       "      <td>0.674812</td>\n",
       "    </tr>\n",
       "    <tr>\n",
       "      <th>6</th>\n",
       "      <td>46</td>\n",
       "      <td>0</td>\n",
       "      <td>1</td>\n",
       "      <td>0.668778</td>\n",
       "    </tr>\n",
       "    <tr>\n",
       "      <th>9</th>\n",
       "      <td>100</td>\n",
       "      <td>0</td>\n",
       "      <td>1</td>\n",
       "      <td>0.648317</td>\n",
       "    </tr>\n",
       "    <tr>\n",
       "      <th>16</th>\n",
       "      <td>2</td>\n",
       "      <td>1</td>\n",
       "      <td>1</td>\n",
       "      <td>0.629772</td>\n",
       "    </tr>\n",
       "    <tr>\n",
       "      <th>15</th>\n",
       "      <td>215</td>\n",
       "      <td>1</td>\n",
       "      <td>1</td>\n",
       "      <td>0.617295</td>\n",
       "    </tr>\n",
       "    <tr>\n",
       "      <th>12</th>\n",
       "      <td>215</td>\n",
       "      <td>0</td>\n",
       "      <td>1</td>\n",
       "      <td>0.617295</td>\n",
       "    </tr>\n",
       "    <tr>\n",
       "      <th>10</th>\n",
       "      <td>464</td>\n",
       "      <td>1</td>\n",
       "      <td>1</td>\n",
       "      <td>0.567164</td>\n",
       "    </tr>\n",
       "    <tr>\n",
       "      <th>0</th>\n",
       "      <td>1</td>\n",
       "      <td>0</td>\n",
       "      <td>1</td>\n",
       "      <td>0.508809</td>\n",
       "    </tr>\n",
       "    <tr>\n",
       "      <th>13</th>\n",
       "      <td>1000</td>\n",
       "      <td>1</td>\n",
       "      <td>1</td>\n",
       "      <td>0.486503</td>\n",
       "    </tr>\n",
       "    <tr>\n",
       "      <th>8</th>\n",
       "      <td>21</td>\n",
       "      <td>0</td>\n",
       "      <td>0</td>\n",
       "      <td>0.103390</td>\n",
       "    </tr>\n",
       "    <tr>\n",
       "      <th>11</th>\n",
       "      <td>21</td>\n",
       "      <td>1</td>\n",
       "      <td>0</td>\n",
       "      <td>0.103390</td>\n",
       "    </tr>\n",
       "    <tr>\n",
       "      <th>3</th>\n",
       "      <td>46</td>\n",
       "      <td>1</td>\n",
       "      <td>0</td>\n",
       "      <td>0.061394</td>\n",
       "    </tr>\n",
       "    <tr>\n",
       "      <th>4</th>\n",
       "      <td>100</td>\n",
       "      <td>0</td>\n",
       "      <td>0</td>\n",
       "      <td>0.033122</td>\n",
       "    </tr>\n",
       "    <tr>\n",
       "      <th>1</th>\n",
       "      <td>215</td>\n",
       "      <td>0</td>\n",
       "      <td>0</td>\n",
       "      <td>0.017583</td>\n",
       "    </tr>\n",
       "    <tr>\n",
       "      <th>5</th>\n",
       "      <td>215</td>\n",
       "      <td>1</td>\n",
       "      <td>0</td>\n",
       "      <td>0.017583</td>\n",
       "    </tr>\n",
       "    <tr>\n",
       "      <th>14</th>\n",
       "      <td>464</td>\n",
       "      <td>1</td>\n",
       "      <td>0</td>\n",
       "      <td>0.007987</td>\n",
       "    </tr>\n",
       "    <tr>\n",
       "      <th>19</th>\n",
       "      <td>464</td>\n",
       "      <td>0</td>\n",
       "      <td>0</td>\n",
       "      <td>0.007987</td>\n",
       "    </tr>\n",
       "    <tr>\n",
       "      <th>7</th>\n",
       "      <td>1000</td>\n",
       "      <td>0</td>\n",
       "      <td>0</td>\n",
       "      <td>0.002900</td>\n",
       "    </tr>\n",
       "    <tr>\n",
       "      <th>2</th>\n",
       "      <td>1</td>\n",
       "      <td>0</td>\n",
       "      <td>0</td>\n",
       "      <td>-0.238830</td>\n",
       "    </tr>\n",
       "  </tbody>\n",
       "</table>\n",
       "</div>"
      ],
      "text/plain": [
       "    n_neighbors  centering  scaling  mean test score\n",
       "17           10          0        1         0.687926\n",
       "18            4          0        1         0.674812\n",
       "6            46          0        1         0.668778\n",
       "9           100          0        1         0.648317\n",
       "16            2          1        1         0.629772\n",
       "15          215          1        1         0.617295\n",
       "12          215          0        1         0.617295\n",
       "10          464          1        1         0.567164\n",
       "0             1          0        1         0.508809\n",
       "13         1000          1        1         0.486503\n",
       "8            21          0        0         0.103390\n",
       "11           21          1        0         0.103390\n",
       "3            46          1        0         0.061394\n",
       "4           100          0        0         0.033122\n",
       "1           215          0        0         0.017583\n",
       "5           215          1        0         0.017583\n",
       "14          464          1        0         0.007987\n",
       "19          464          0        0         0.007987\n",
       "7          1000          0        0         0.002900\n",
       "2             1          0        0        -0.238830"
      ]
     },
     "execution_count": 6,
     "metadata": {},
     "output_type": "execute_result"
    }
   ],
   "source": [
    "column_scaler = [\"centering\", \"scaling\"]\n",
    "cv_results[column_scaler] = cv_results[column_scaler].astype(np.int64)\n",
    "cv_results[\"n_neighbors\"] = cv_results[\"n_neighbors\"].astype(np.int64)\n",
    "cv_results"
   ]
  },
  {
   "cell_type": "code",
   "execution_count": 7,
   "id": "fcbf7041",
   "metadata": {
    "tags": [
     "solution"
    ]
   },
   "outputs": [
    {
     "ename": "AttributeError",
     "evalue": "'DataFrame' object has no attribute 'iteritems'",
     "output_type": "error",
     "traceback": [
      "\u001b[1;31m---------------------------------------------------------------------------\u001b[0m",
      "\u001b[1;31mAttributeError\u001b[0m                            Traceback (most recent call last)",
      "Cell \u001b[1;32mIn[7], line 3\u001b[0m\n\u001b[0;32m      1\u001b[0m \u001b[38;5;28;01mimport\u001b[39;00m \u001b[38;5;21;01mplotly\u001b[39;00m\u001b[38;5;21;01m.\u001b[39;00m\u001b[38;5;21;01mexpress\u001b[39;00m \u001b[38;5;28;01mas\u001b[39;00m \u001b[38;5;21;01mpx\u001b[39;00m\n\u001b[1;32m----> 3\u001b[0m fig \u001b[38;5;241m=\u001b[39m px\u001b[38;5;241m.\u001b[39mparallel_coordinates(\n\u001b[0;32m      4\u001b[0m     cv_results,\n\u001b[0;32m      5\u001b[0m     color\u001b[38;5;241m=\u001b[39m\u001b[38;5;124m\"\u001b[39m\u001b[38;5;124mmean test score\u001b[39m\u001b[38;5;124m\"\u001b[39m,\n\u001b[0;32m      6\u001b[0m     dimensions\u001b[38;5;241m=\u001b[39m[\u001b[38;5;124m\"\u001b[39m\u001b[38;5;124mn_neighbors\u001b[39m\u001b[38;5;124m\"\u001b[39m, \u001b[38;5;124m\"\u001b[39m\u001b[38;5;124mcentering\u001b[39m\u001b[38;5;124m\"\u001b[39m, \u001b[38;5;124m\"\u001b[39m\u001b[38;5;124mscaling\u001b[39m\u001b[38;5;124m\"\u001b[39m, \u001b[38;5;124m\"\u001b[39m\u001b[38;5;124mmean test score\u001b[39m\u001b[38;5;124m\"\u001b[39m],\n\u001b[0;32m      7\u001b[0m     color_continuous_scale\u001b[38;5;241m=\u001b[39mpx\u001b[38;5;241m.\u001b[39mcolors\u001b[38;5;241m.\u001b[39mdiverging\u001b[38;5;241m.\u001b[39mTealrose,\n\u001b[0;32m      8\u001b[0m )\n\u001b[0;32m      9\u001b[0m fig\u001b[38;5;241m.\u001b[39mshow()\n",
      "File \u001b[1;32m~\\anaconda3\\Lib\\site-packages\\plotly\\express\\_chart_types.py:1418\u001b[0m, in \u001b[0;36mparallel_coordinates\u001b[1;34m(data_frame, dimensions, color, labels, color_continuous_scale, range_color, color_continuous_midpoint, title, template, width, height)\u001b[0m\n\u001b[0;32m   1400\u001b[0m \u001b[38;5;28;01mdef\u001b[39;00m \u001b[38;5;21mparallel_coordinates\u001b[39m(\n\u001b[0;32m   1401\u001b[0m     data_frame\u001b[38;5;241m=\u001b[39m\u001b[38;5;28;01mNone\u001b[39;00m,\n\u001b[0;32m   1402\u001b[0m     dimensions\u001b[38;5;241m=\u001b[39m\u001b[38;5;28;01mNone\u001b[39;00m,\n\u001b[1;32m   (...)\u001b[0m\n\u001b[0;32m   1411\u001b[0m     height\u001b[38;5;241m=\u001b[39m\u001b[38;5;28;01mNone\u001b[39;00m,\n\u001b[0;32m   1412\u001b[0m ) \u001b[38;5;241m-\u001b[39m\u001b[38;5;241m>\u001b[39m go\u001b[38;5;241m.\u001b[39mFigure:\n\u001b[0;32m   1413\u001b[0m \u001b[38;5;250m    \u001b[39m\u001b[38;5;124;03m\"\"\"\u001b[39;00m\n\u001b[0;32m   1414\u001b[0m \u001b[38;5;124;03m    In a parallel coordinates plot, each row of `data_frame` is represented\u001b[39;00m\n\u001b[0;32m   1415\u001b[0m \u001b[38;5;124;03m    by a polyline mark which traverses a set of parallel axes, one for each\u001b[39;00m\n\u001b[0;32m   1416\u001b[0m \u001b[38;5;124;03m    of the `dimensions`.\u001b[39;00m\n\u001b[0;32m   1417\u001b[0m \u001b[38;5;124;03m    \"\"\"\u001b[39;00m\n\u001b[1;32m-> 1418\u001b[0m     \u001b[38;5;28;01mreturn\u001b[39;00m make_figure(args\u001b[38;5;241m=\u001b[39m\u001b[38;5;28mlocals\u001b[39m(), constructor\u001b[38;5;241m=\u001b[39mgo\u001b[38;5;241m.\u001b[39mParcoords)\n",
      "File \u001b[1;32m~\\anaconda3\\Lib\\site-packages\\plotly\\express\\_core.py:2167\u001b[0m, in \u001b[0;36mmake_figure\u001b[1;34m(args, constructor, trace_patch, layout_patch)\u001b[0m\n\u001b[0;32m   2164\u001b[0m     \u001b[38;5;28;01melif\u001b[39;00m args[\u001b[38;5;124m\"\u001b[39m\u001b[38;5;124mecdfnorm\u001b[39m\u001b[38;5;124m\"\u001b[39m] \u001b[38;5;241m==\u001b[39m \u001b[38;5;124m\"\u001b[39m\u001b[38;5;124mpercent\u001b[39m\u001b[38;5;124m\"\u001b[39m:\n\u001b[0;32m   2165\u001b[0m         group[var] \u001b[38;5;241m=\u001b[39m \u001b[38;5;241m100.0\u001b[39m \u001b[38;5;241m*\u001b[39m group[var] \u001b[38;5;241m/\u001b[39m group_sum\n\u001b[1;32m-> 2167\u001b[0m patch, fit_results \u001b[38;5;241m=\u001b[39m make_trace_kwargs(\n\u001b[0;32m   2168\u001b[0m     args, trace_spec, group, mapping_labels\u001b[38;5;241m.\u001b[39mcopy(), sizeref\n\u001b[0;32m   2169\u001b[0m )\n\u001b[0;32m   2170\u001b[0m trace\u001b[38;5;241m.\u001b[39mupdate(patch)\n\u001b[0;32m   2171\u001b[0m \u001b[38;5;28;01mif\u001b[39;00m fit_results \u001b[38;5;129;01mis\u001b[39;00m \u001b[38;5;129;01mnot\u001b[39;00m \u001b[38;5;28;01mNone\u001b[39;00m:\n",
      "File \u001b[1;32m~\\anaconda3\\Lib\\site-packages\\plotly\\express\\_core.py:281\u001b[0m, in \u001b[0;36mmake_trace_kwargs\u001b[1;34m(args, trace_spec, trace_data, mapping_labels, sizeref)\u001b[0m\n\u001b[0;32m    277\u001b[0m attr_label \u001b[38;5;241m=\u001b[39m get_decorated_label(args, attr_value, attr_name)\n\u001b[0;32m    278\u001b[0m \u001b[38;5;28;01mif\u001b[39;00m attr_name \u001b[38;5;241m==\u001b[39m \u001b[38;5;124m\"\u001b[39m\u001b[38;5;124mdimensions\u001b[39m\u001b[38;5;124m\"\u001b[39m:\n\u001b[0;32m    279\u001b[0m     dims \u001b[38;5;241m=\u001b[39m [\n\u001b[0;32m    280\u001b[0m         (name, column)\n\u001b[1;32m--> 281\u001b[0m         \u001b[38;5;28;01mfor\u001b[39;00m (name, column) \u001b[38;5;129;01min\u001b[39;00m trace_data\u001b[38;5;241m.\u001b[39miteritems()\n\u001b[0;32m    282\u001b[0m         \u001b[38;5;28;01mif\u001b[39;00m ((\u001b[38;5;129;01mnot\u001b[39;00m attr_value) \u001b[38;5;129;01mor\u001b[39;00m (name \u001b[38;5;129;01min\u001b[39;00m attr_value))\n\u001b[0;32m    283\u001b[0m         \u001b[38;5;129;01mand\u001b[39;00m (\n\u001b[0;32m    284\u001b[0m             trace_spec\u001b[38;5;241m.\u001b[39mconstructor \u001b[38;5;241m!=\u001b[39m go\u001b[38;5;241m.\u001b[39mParcoords\n\u001b[0;32m    285\u001b[0m             \u001b[38;5;129;01mor\u001b[39;00m _is_continuous(args[\u001b[38;5;124m\"\u001b[39m\u001b[38;5;124mdata_frame\u001b[39m\u001b[38;5;124m\"\u001b[39m], name)\n\u001b[0;32m    286\u001b[0m         )\n\u001b[0;32m    287\u001b[0m         \u001b[38;5;129;01mand\u001b[39;00m (\n\u001b[0;32m    288\u001b[0m             trace_spec\u001b[38;5;241m.\u001b[39mconstructor \u001b[38;5;241m!=\u001b[39m go\u001b[38;5;241m.\u001b[39mParcats\n\u001b[0;32m    289\u001b[0m             \u001b[38;5;129;01mor\u001b[39;00m (attr_value \u001b[38;5;129;01mis\u001b[39;00m \u001b[38;5;129;01mnot\u001b[39;00m \u001b[38;5;28;01mNone\u001b[39;00m \u001b[38;5;129;01mand\u001b[39;00m name \u001b[38;5;129;01min\u001b[39;00m attr_value)\n\u001b[0;32m    290\u001b[0m             \u001b[38;5;129;01mor\u001b[39;00m \u001b[38;5;28mlen\u001b[39m(args[\u001b[38;5;124m\"\u001b[39m\u001b[38;5;124mdata_frame\u001b[39m\u001b[38;5;124m\"\u001b[39m][name]\u001b[38;5;241m.\u001b[39munique())\n\u001b[0;32m    291\u001b[0m             \u001b[38;5;241m<\u001b[39m\u001b[38;5;241m=\u001b[39m args[\u001b[38;5;124m\"\u001b[39m\u001b[38;5;124mdimensions_max_cardinality\u001b[39m\u001b[38;5;124m\"\u001b[39m]\n\u001b[0;32m    292\u001b[0m         )\n\u001b[0;32m    293\u001b[0m     ]\n\u001b[0;32m    294\u001b[0m     trace_patch[\u001b[38;5;124m\"\u001b[39m\u001b[38;5;124mdimensions\u001b[39m\u001b[38;5;124m\"\u001b[39m] \u001b[38;5;241m=\u001b[39m [\n\u001b[0;32m    295\u001b[0m         \u001b[38;5;28mdict\u001b[39m(label\u001b[38;5;241m=\u001b[39mget_label(args, name), values\u001b[38;5;241m=\u001b[39mcolumn)\n\u001b[0;32m    296\u001b[0m         \u001b[38;5;28;01mfor\u001b[39;00m (name, column) \u001b[38;5;129;01min\u001b[39;00m dims\n\u001b[0;32m    297\u001b[0m     ]\n\u001b[0;32m    298\u001b[0m     \u001b[38;5;28;01mif\u001b[39;00m trace_spec\u001b[38;5;241m.\u001b[39mconstructor \u001b[38;5;241m==\u001b[39m go\u001b[38;5;241m.\u001b[39mSplom:\n",
      "File \u001b[1;32m~\\anaconda3\\Lib\\site-packages\\pandas\\core\\generic.py:6204\u001b[0m, in \u001b[0;36mNDFrame.__getattr__\u001b[1;34m(self, name)\u001b[0m\n\u001b[0;32m   6197\u001b[0m \u001b[38;5;28;01mif\u001b[39;00m (\n\u001b[0;32m   6198\u001b[0m     name \u001b[38;5;129;01mnot\u001b[39;00m \u001b[38;5;129;01min\u001b[39;00m \u001b[38;5;28mself\u001b[39m\u001b[38;5;241m.\u001b[39m_internal_names_set\n\u001b[0;32m   6199\u001b[0m     \u001b[38;5;129;01mand\u001b[39;00m name \u001b[38;5;129;01mnot\u001b[39;00m \u001b[38;5;129;01min\u001b[39;00m \u001b[38;5;28mself\u001b[39m\u001b[38;5;241m.\u001b[39m_metadata\n\u001b[0;32m   6200\u001b[0m     \u001b[38;5;129;01mand\u001b[39;00m name \u001b[38;5;129;01mnot\u001b[39;00m \u001b[38;5;129;01min\u001b[39;00m \u001b[38;5;28mself\u001b[39m\u001b[38;5;241m.\u001b[39m_accessors\n\u001b[0;32m   6201\u001b[0m     \u001b[38;5;129;01mand\u001b[39;00m \u001b[38;5;28mself\u001b[39m\u001b[38;5;241m.\u001b[39m_info_axis\u001b[38;5;241m.\u001b[39m_can_hold_identifiers_and_holds_name(name)\n\u001b[0;32m   6202\u001b[0m ):\n\u001b[0;32m   6203\u001b[0m     \u001b[38;5;28;01mreturn\u001b[39;00m \u001b[38;5;28mself\u001b[39m[name]\n\u001b[1;32m-> 6204\u001b[0m \u001b[38;5;28;01mreturn\u001b[39;00m \u001b[38;5;28mobject\u001b[39m\u001b[38;5;241m.\u001b[39m\u001b[38;5;21m__getattribute__\u001b[39m(\u001b[38;5;28mself\u001b[39m, name)\n",
      "\u001b[1;31mAttributeError\u001b[0m: 'DataFrame' object has no attribute 'iteritems'"
     ]
    }
   ],
   "source": [
    "import plotly.express as px\n",
    "\n",
    "fig = px.parallel_coordinates(\n",
    "    cv_results,\n",
    "    color=\"mean test score\",\n",
    "    dimensions=[\"n_neighbors\", \"centering\", \"scaling\", \"mean test score\"],\n",
    "    color_continuous_scale=px.colors.diverging.Tealrose,\n",
    ")\n",
    "fig.show()"
   ]
  },
  {
   "cell_type": "markdown",
   "id": "40ef57fc",
   "metadata": {
    "tags": [
     "solution"
    ]
   },
   "source": [
    "We recall that it is possible to select a range of results by clicking and\n",
    "holding on any axis of the parallel coordinate plot. You can then slide\n",
    "(move) the range selection and cross two selections to see the intersections.\n",
    "\n",
    "Selecting the best performing models (i.e. above an accuracy of ~0.68), we\n",
    "observe that **in this case**:\n",
    "\n",
    "- scaling the data is important. All the best performing models use scaled\n",
    "  features;\n",
    "- centering the data does not have a strong impact. Both approaches, centering\n",
    "  and not centering, can lead to good models;\n",
    "- using some neighbors is fine but using too many is a problem. In particular\n",
    "  no pipeline with `n_neighbors=1` can be found among the best models.\n",
    "  However, scaling features has an even stronger impact than the choice of\n",
    "  `n_neighbors` in this problem.\n",
    "\n",
    "The reason is that fitting scaled data leads to a completely different\n",
    "KNeighbors model:  if you have two variables A and B where A has values which\n",
    "vary between 0 and 10,000 (e.g. the variable `\"Population\"`) and B is a\n",
    "feature that varies between 1 and 10 (e.g. the variable `\"AveRooms\"`), then\n",
    "distances between samples (rows of the dataframe) are mostly impacted by\n",
    "differences in values of the column A, while values of the column B will be\n",
    "comparatively ignored. If one applies StandardScaler to such a database, both\n",
    "the values of A and B will be approximately between -3 and 3 and the neighbor\n",
    "structure will be impacted more or less equivalently by both variables.\n",
    "\n",
    "Note that **in this case** the models with scaled features perform better\n",
    "than the models with non-scaled features because all the variables are\n",
    "expected to be predictive and we rather avoid some of them being comparatively\n",
    "ignored.\n",
    "\n",
    "If the variables in lower scales were not predictive one may experience a\n",
    "decrease of the performance after scaling the features: noisy features would\n",
    "contribute more to the prediction after scaling and therefore scaling would\n",
    "increase overfitting."
   ]
  }
 ],
 "metadata": {
  "jupytext": {
   "main_language": "python"
  },
  "kernelspec": {
   "display_name": "Python 3 (ipykernel)",
   "language": "python",
   "name": "python3"
  },
  "language_info": {
   "codemirror_mode": {
    "name": "ipython",
    "version": 3
   },
   "file_extension": ".py",
   "mimetype": "text/x-python",
   "name": "python",
   "nbconvert_exporter": "python",
   "pygments_lexer": "ipython3",
   "version": "3.11.7"
  }
 },
 "nbformat": 4,
 "nbformat_minor": 5
}
