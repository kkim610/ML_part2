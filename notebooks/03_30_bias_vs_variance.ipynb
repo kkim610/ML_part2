{
 "cells": [
  {
   "cell_type": "markdown",
   "id": "1c4ea5e9-9be0-4c25-ad80-de78db6af6dc",
   "metadata": {},
   "source": [
    "# Bias and Variance\n",
    "\n",
    "In this lecture, we will discuss the bias-variance tradeoff, which is\n",
    "useful to give a statistical view on underfitting and overfitting.\n",
    "\n",
    "<img src=\"../figures/scikit-learn-logo.svg\">"
   ]
  },
  {
   "cell_type": "markdown",
   "id": "596bfede-a279-42bc-9c6b-621d46d4167d",
   "metadata": {},
   "source": [
    "# Resampling the training set\n",
    "\n",
    "- A limited amount of training data\n",
    "\n",
    "- Training set is a small random subset of all possible observations\n",
    "\n",
    "- What is the impact of this choice of training set on the learned prediction\n",
    "  function?\n",
    "\n"
   ]
  },
  {
   "cell_type": "markdown",
   "id": "cc05b6a4-3faa-4574-af80-5860426e51e3",
   "metadata": {},
   "source": [
    "\n",
    "\n",
    "Machine learning operates with finite training set:\n",
    "\n",
    "We label an arbitrarily random subset of all possible observations because\n",
    "labeling all the possible observations would be too costly.\n",
    "\n",
    "What if we used a different training set?\n",
    "\n",
    "- How different would the resulting learned prediction functions be?\n",
    "\n",
    "- What would be their average test error?\n"
   ]
  },
  {
   "cell_type": "markdown",
   "id": "9dc5dc5f-feb8-4a6c-96d9-87c986938786",
   "metadata": {},
   "source": [
    "# Overfit: variance\n",
    "<br><br>\n",
    "<img src=\"../figures/polynomial_overfit_resample_0.svg\" width=\"40%\"><br><br><br>\n",
    "<img src=\"../figures/target_variance_0.svg\"\n",
    "\t\t\t\tclass=\"shift-up\" width=\"40%\">]\n",
    "\n",
    "\n",
    "Let's illustrate the concept of bias using the analogy of shooting arrows on a\n",
    "target.\n",
    "\n",
    "A cross on the target represents the result a model obtained by applying\n",
    "the learning algorithm to a random training set with a given finite size.\n",
    "\n",
    "The perfect model would be located at the center of the target. The distance to\n",
    "the target represents the test error (computed with an infinite test data).\n"
   ]
  },
  {
   "cell_type": "markdown",
   "id": "a7dafcb4-ecb8-45d5-b07e-24307c5c1e03",
   "metadata": {},
   "source": [
    "# Overfit: variance\n",
    "<br><br>\n",
    "<img src=\"../figures/polynomial_overfit_resample_1.svg\" width=\"40%\"><br><br><br>\n",
    "\n",
    "<img src=\"../figures/target_variance_1.svg\"\n",
    "\t\t\t\tclass=\"shift-up\" width=\"40%\">\n",
    "\n",
    "\n",
    "If we were to train our high flexibility degree 9 polynomial model on an\n",
    "alternative sample of the training set, we could get a very different\n",
    "prediction function.\n",
    "\n",
    "On the target, that would be represented an arrow in a completely\n",
    "different location."
   ]
  },
  {
   "cell_type": "markdown",
   "id": "d2fb2096-e43e-4744-891c-a356ab42f7fb",
   "metadata": {},
   "source": [
    "# Overfit: variance\n",
    "<br><br>\n",
    "<img src=\"../figures/polynomial_overfit_resample_2.svg\" width=\"40%\"><br><br><br>\n",
    "\n",
    "<img src=\"../figures/target_variance_2.svg\"\n",
    "\t\t\t\tclass=\"shift-up\" width=\"40%\">"
   ]
  },
  {
   "cell_type": "markdown",
   "id": "43446167-3496-4fe4-a103-cc0f87a17c77",
   "metadata": {},
   "source": [
    "Another resample, another very different prediction function."
   ]
  },
  {
   "cell_type": "markdown",
   "id": "b8ab6018-95d5-458a-95ba-55e6a986a41c",
   "metadata": {},
   "source": [
    "# Overfit: variance\n",
    "\n",
    "<img src=\"../figures/polynomial_overfit_resample_all.svg\" width=\"40%\">]\n",
    "\n",
    "<img src=\"../figures/target_variance.svg\"\n",
    "\t\t\t\tclass=\"shift-up\" width=\"40%\">]"
   ]
  },
  {
   "cell_type": "markdown",
   "id": "9110ab3b-a0d5-4668-b287-4035be0007c6",
   "metadata": {},
   "source": [
    "If we consider all the possible models trained on resampled training sets we\n",
    "can see the overfitting behavior.\n",
    "\n",
    "The overfitting problem is one of variance: on average, the predictions are not\n",
    "necessarily off, but each tend to fall far from the target. This can be seen by\n",
    "their large spread around the best possible prediction. A useful mental picture\n",
    "is that of the spread of arrows on a target.\n",
    "\n",
    "For our machine learning example, this situation corresponds to a high\n",
    "complexity model class that is affected by how the noise in the data generating\n",
    "process makes the observations vary from one small training set to another."
   ]
  },
  {
   "cell_type": "markdown",
   "id": "f911facd-0d0a-4902-9d08-316a7600d640",
   "metadata": {},
   "source": [
    "\n",
    "# Underfit: bias\n",
    "<br><br>\n",
    "<img src=\"../figures/polynomial_underfit_resample_0.svg\" width=\"40%\"><br><br><br>\n",
    "\n",
    "<img src=\"../figures/target_bias_0.svg\"\n",
    "\t\t\t\tclass=\"shift-up\" width=\"40%\">]\n",
    "\n"
   ]
  },
  {
   "cell_type": "markdown",
   "id": "dddc61ac-df0a-490d-97db-56c6ed339765",
   "metadata": {},
   "source": [
    "Let's now consider an underfitting model: polynomial of degree 1 (which is just\n",
    "a linear prediction function).\n",
    "\n",
    "Since the true generative process is non-linear, our fitted prediction function\n",
    "is bound to make prediction errors for some regions of the input space."
   ]
  },
  {
   "cell_type": "markdown",
   "id": "ee1694a2-c69f-4161-92aa-fc0b4e228a27",
   "metadata": {},
   "source": [
    "# Underfit: bias\n",
    "<br><br>\n",
    "<img src=\"../figures/polynomial_underfit_resample_1.svg\" width=\"40%\"><br><br><br>\n",
    "\n",
    "<img src=\"../figures/target_bias_1.svg\"\n",
    "\t\t\t\tclass=\"shift-up\" width=\"40%\">]"
   ]
  },
  {
   "cell_type": "markdown",
   "id": "ea9c5300-9085-401e-ab81-57a2bf065b14",
   "metadata": {},
   "source": [
    "Upon resampling the training set, one can see that the resulting training\n",
    "function stays very similar: the slope moves a bit.\n"
   ]
  },
  {
   "cell_type": "markdown",
   "id": "ec01ea69-3e96-4024-a993-1d2eaee9a3f3",
   "metadata": {},
   "source": [
    "\n",
    "# Underfit: bias\n",
    "\n",
    "<br><br>\n",
    "<img src=\"../figures/polynomial_underfit_resample_2.svg\" width=\"40%\"><br><br><br>\n",
    "\n",
    "<img src=\"../figures/target_bias_2.svg\"\n",
    "\t\t\t\tclass=\"shift-up\" width=\"40%\">]\n"
   ]
  },
  {
   "cell_type": "markdown",
   "id": "685cea08-ab9e-4744-9bfc-eb52cd3ff1b3",
   "metadata": {},
   "source": [
    "Even more importantly, for a given region of the input space, the underfitting\n",
    "models tend to make similar kinds of prediction errors."
   ]
  },
  {
   "cell_type": "markdown",
   "id": "59626c9b-f3f7-4603-8906-c50c7b84563e",
   "metadata": {},
   "source": [
    "# Underfit: bias\n",
    "\n",
    "<br><br><img src=\"../figures/polynomial_underfit_resample_all.svg\" width=\"40%\"><br><br><br>\n",
    "\n",
    "<img src=\"../figures/target_bias.svg\"\n",
    "\t\t\t\tclass=\"shift-up\" width=\"40%\">]"
   ]
  },
  {
   "cell_type": "markdown",
   "id": "b222547c-c521-4f57-a464-db36f7b95618",
   "metadata": {},
   "source": [
    "Underfitting leads to systematic biases: the predictions cannot be on target on\n",
    "average, because the model that we used to predict is systematically off the\n",
    "data-generating process.\n",
    "\n",
    "On the figure on the left, if we choose a linear model with generated data\n",
    "coming from a non-linear generative process, whatever the choice of the training\n",
    "set, our trained model will tend to make systematic under-predictions on the\n",
    "edges of the domain and over-predictions in the middle of the domain."
   ]
  },
  {
   "cell_type": "markdown",
   "id": "e9886a5a-0c8e-4ac9-a6cd-f459babcf00a",
   "metadata": {},
   "source": [
    "\n",
    "# Underfit versus overfit\n",
    "\n",
    "<br><br><img src=\"../figures/target_bias.svg\" width=\"40%\"><br><br><br>\n",
    "<img src=\"../figures/target_variance.svg\"\n",
    "\t\t\t\twidth=\"40%\">\n"
   ]
  },
  {
   "cell_type": "markdown",
   "id": "286e19e2-7145-464d-a3e8-c64a8bcf4ccd",
   "metadata": {},
   "source": [
    "This bias-variance tradeoff is classic in statistics. Often, adding a\n",
    "little bit of bias helps reducing the variance. For instance, as with\n",
    "throwing darts at a target, throwing the darts less strong might\n",
    "lead to being below the target on average, but with less scatter."
   ]
  },
  {
   "cell_type": "markdown",
   "id": "e7badbfa-c443-4929-aebd-ceb5c05cc664",
   "metadata": {},
   "source": [
    "# The bias-variance decomposition of the Mean Squared Error (MSE)\n",
    "\n",
    "For people with a background in mathematics and statistics who are interested in\n",
    "a more formal treatment of those concepts:\n",
    "\n",
    "\n",
    "[\n",
    "\t[Decomposition of the squared prediction error on Wikipedia](\n",
    "\t\thttps://en.wikipedia.org/wiki/Bias%E2%80%93variance_tradeoff)\n",
    "]"
   ]
  },
  {
   "cell_type": "markdown",
   "id": "11db2345-bc2d-4f31-aa53-ba48f412aa26",
   "metadata": {},
   "source": [
    "# summary"
   ]
  },
  {
   "cell_type": "markdown",
   "id": "18cc153e-2cd6-46b3-958c-3d73c422c480",
   "metadata": {},
   "source": [
    "**High bias** == **underfitting**:\n",
    "\n",
    "\n",
    "- systematic prediction errors\n",
    "- the model prefers to ignore some aspects of the data\n",
    "- mispecified models\n",
    "\n"
   ]
  },
  {
   "cell_type": "markdown",
   "id": "d1184a81-8ff7-4b4a-82c6-bf42875e1a74",
   "metadata": {},
   "source": [
    "**High variance** == **overfitting**:\n",
    "\n",
    "\n",
    "- prediction errors without obvious structure\n",
    "- small change in the training set, large change in model\n",
    "- unstable models\n",
    "\n"
   ]
  },
  {
   "cell_type": "markdown",
   "id": "e2e955e4-4fa9-434f-b4ee-3f3ef7a905a7",
   "metadata": {},
   "source": [
    "The bias can come from the choice of the model family."
   ]
  },
  {
   "cell_type": "markdown",
   "id": "9fd51fe9-cf87-4888-b870-3d635f9cf54c",
   "metadata": {},
   "source": [
    "The irreducible error is a synonym for the Bayes error we introduced previously. (???)"
   ]
  },
  {
   "cell_type": "code",
   "execution_count": null,
   "id": "94de7613-e8be-4a03-aa8a-8cfcfbaca2fa",
   "metadata": {},
   "outputs": [],
   "source": []
  }
 ],
 "metadata": {
  "kernelspec": {
   "display_name": "Python 3 (ipykernel)",
   "language": "python",
   "name": "python3"
  },
  "language_info": {
   "codemirror_mode": {
    "name": "ipython",
    "version": 3
   },
   "file_extension": ".py",
   "mimetype": "text/x-python",
   "name": "python",
   "nbconvert_exporter": "python",
   "pygments_lexer": "ipython3",
   "version": "3.11.7"
  }
 },
 "nbformat": 4,
 "nbformat_minor": 5
}
